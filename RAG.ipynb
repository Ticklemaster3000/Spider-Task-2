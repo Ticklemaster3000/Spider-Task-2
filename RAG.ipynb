{
 "cells": [
  {
   "metadata": {},
   "cell_type": "markdown",
   "source": "# IMPORT ALL MODULES",
   "id": "aee5fd93a4f0701"
  },
  {
   "cell_type": "code",
   "id": "initial_id",
   "metadata": {
    "collapsed": true,
    "ExecuteTime": {
     "end_time": "2025-07-05T10:30:38.582043Z",
     "start_time": "2025-07-05T10:30:37.166658Z"
    }
   },
   "source": [
    "from langchain_text_splitters import RecursiveCharacterTextSplitter\n",
    "from langchain_community.document_loaders import PyPDFLoader\n",
    "from langchain_community.embeddings import HuggingFaceEmbeddings\n",
    "from langchain_ollama import ChatOllama\n",
    "from langchain_community.vectorstores import FAISS"
   ],
   "outputs": [],
   "execution_count": 1
  },
  {
   "metadata": {},
   "cell_type": "markdown",
   "source": "# LOAD ALL NECESSARY PDFS",
   "id": "6edc93ff01af6add"
  },
  {
   "metadata": {
    "ExecuteTime": {
     "end_time": "2025-07-05T10:30:42.429766Z",
     "start_time": "2025-07-05T10:30:39.588841Z"
    }
   },
   "cell_type": "code",
   "source": [
    "paths = [\n",
    "    r\".\\Documents\\Attention_is_all_you_need.pdf\",\n",
    "    r\".\\Documents\\BERT.pdf\",\n",
    "    r\".\\Documents\\Contrastive_Language.pdf\",\n",
    "    r\".\\Documents\\GPT_3.pdf\",\n",
    "    r\".\\Documents\\LLaMa.pdf\"\n",
    "]\n",
    "\n",
    "documents = []\n",
    "\n",
    "# apparently loads each page as an individual document\n",
    "for path in paths:\n",
    "    loader = PyPDFLoader(path)\n",
    "\n",
    "    documents += loader.load()"
   ],
   "id": "2d7136f9efa98dca",
   "outputs": [],
   "execution_count": 2
  },
  {
   "metadata": {},
   "cell_type": "markdown",
   "source": "# SPLIT INTO CHUNK SIZES OF SIZE 1000 AND OVERLAP 100",
   "id": "8e060733957822d9"
  },
  {
   "metadata": {
    "ExecuteTime": {
     "end_time": "2025-07-05T10:30:44.290465Z",
     "start_time": "2025-07-05T10:30:44.276175Z"
    }
   },
   "cell_type": "code",
   "source": [
    "text_splitter = RecursiveCharacterTextSplitter(chunk_size=1000, chunk_overlap=200)\n",
    "\n",
    "documents = text_splitter.split_documents(documents)\n",
    "\n",
    "print(len(documents))"
   ],
   "id": "ec6e051e3969518c",
   "outputs": [
    {
     "name": "stdout",
     "output_type": "stream",
     "text": [
      "634\n"
     ]
    }
   ],
   "execution_count": 3
  },
  {
   "metadata": {},
   "cell_type": "markdown",
   "source": [
    "# DOES THE EXACT SAME THING BUT IN FEWER LINES OF CODE\n",
    "\n",
    "apparently PyPDFLoader has a built in function to integrate text-splitters"
   ],
   "id": "30088737bf7088e4"
  },
  {
   "metadata": {
    "ExecuteTime": {
     "end_time": "2025-07-05T10:30:48.233038Z",
     "start_time": "2025-07-05T10:30:45.870237Z"
    }
   },
   "cell_type": "code",
   "source": [
    "documents = []\n",
    "\n",
    "for path in paths:\n",
    "    loader = PyPDFLoader(path)\n",
    "\n",
    "    documents += loader.load_and_split(text_splitter)\n",
    "\n",
    "print(len(documents))"
   ],
   "id": "fb7c59799dea816e",
   "outputs": [
    {
     "name": "stdout",
     "output_type": "stream",
     "text": [
      "634\n"
     ]
    }
   ],
   "execution_count": 4
  },
  {
   "metadata": {},
   "cell_type": "markdown",
   "source": [
    "# EMBED ALL DOCUMENTS AND SAVE THEM IN FAISS DATABASE\n",
    "Why FAISS (it literally said similarity search in the name so I had to use it)"
   ],
   "id": "bcd4855c3bed69f6"
  },
  {
   "metadata": {
    "ExecuteTime": {
     "end_time": "2025-07-05T10:31:26.573659Z",
     "start_time": "2025-07-05T10:30:49.490460Z"
    }
   },
   "cell_type": "code",
   "source": [
    "model = HuggingFaceEmbeddings(model_name=\"sentence-transformers/all-mpnet-base-v2\")\n",
    "\n",
    "db = FAISS.from_documents(documents, model)"
   ],
   "id": "6dc9ddffa655c58e",
   "outputs": [
    {
     "name": "stderr",
     "output_type": "stream",
     "text": [
      "C:\\Users\\kinja\\AppData\\Local\\Temp\\ipykernel_19524\\2346870282.py:1: LangChainDeprecationWarning: The class `HuggingFaceEmbeddings` was deprecated in LangChain 0.2.2 and will be removed in 1.0. An updated version of the class exists in the :class:`~langchain-huggingface package and should be used instead. To use it run `pip install -U :class:`~langchain-huggingface` and import as `from :class:`~langchain_huggingface import HuggingFaceEmbeddings``.\n",
      "  model = HuggingFaceEmbeddings(model_name=\"sentence-transformers/all-mpnet-base-v2\")\n"
     ]
    }
   ],
   "execution_count": 5
  },
  {
   "metadata": {},
   "cell_type": "markdown",
   "source": "# MAKE A RETRIEVER WHICH RETURNS TOP 5 SIMILAR DOCUMENTS",
   "id": "672da8827add638"
  },
  {
   "metadata": {
    "ExecuteTime": {
     "end_time": "2025-07-05T10:31:34.750348Z",
     "start_time": "2025-07-05T10:31:34.747631Z"
    }
   },
   "cell_type": "code",
   "source": "retriever = db.as_retriever(search_kwargs={\"k\": 5})",
   "id": "ed3b70798154d221",
   "outputs": [],
   "execution_count": 6
  },
  {
   "metadata": {},
   "cell_type": "markdown",
   "source": "# INITIALIZE LLAMA 3 LLM (BECAUSE OFFLINE)",
   "id": "3649320d2c94d8e6"
  },
  {
   "metadata": {
    "ExecuteTime": {
     "end_time": "2025-07-05T10:31:37.028797Z",
     "start_time": "2025-07-05T10:31:36.655667Z"
    }
   },
   "cell_type": "code",
   "source": [
    "llm = ChatOllama(\n",
    "    model=\"llama3\",\n",
    "    temperature=0.4\n",
    ")"
   ],
   "id": "7b1b4fd0204c7424",
   "outputs": [],
   "execution_count": 7
  },
  {
   "metadata": {},
   "cell_type": "markdown",
   "source": [
    "# WRITE A ASK FUNCTION\n",
    "Retrieves top 5 similar documents and giving the llm context (aka yoichiro from blue lock, idk I wanted to do something fun)"
   ],
   "id": "7d523f5fde136aa2"
  },
  {
   "metadata": {
    "ExecuteTime": {
     "end_time": "2025-07-05T10:33:14.074820Z",
     "start_time": "2025-07-05T10:33:14.072013Z"
    }
   },
   "cell_type": "code",
   "source": [
    "def ask(query):\n",
    "    context = \"\\n\\n\".join([i.page_content for i in retriever.invoke(query)])\n",
    "    prompt = f\"Question: {query}\\nContext: \\n\" + context\n",
    "\n",
    "    messages = [\n",
    "    (\"system\", \"You are answering questions on 5 documents of research. You will be given 5 context documents separated by '\\n\\n' formulate an appropriate reply. You are playing the part of Yoichiro Isagi from the anime Blue Lock, try to mimic his mannerisms. Answer accordingly and include some iconic dialogues and mannerisms\"),\n",
    "    (\"human\",  prompt)\n",
    "    ]\n",
    "\n",
    "    ai_msg = llm.invoke(messages)\n",
    "    return ai_msg.content"
   ],
   "id": "7648e8259fa94566",
   "outputs": [],
   "execution_count": 11
  },
  {
   "metadata": {},
   "cell_type": "markdown",
   "source": "# QUICK LOOP TO TEST CHAT",
   "id": "d1fa4191a24cddde"
  },
  {
   "metadata": {
    "ExecuteTime": {
     "end_time": "2025-07-05T10:33:39.484364Z",
     "start_time": "2025-07-05T10:33:16.345927Z"
    }
   },
   "cell_type": "code",
   "source": [
    "while True:\n",
    "    choice = input(\"Enter 1 to continue or 0 to exit: \")\n",
    "    if choice == \"0\":\n",
    "        break\n",
    "    elif choice == \"1\":\n",
    "        print(ask(input(\"Enter query: \")))\n",
    "    else:\n",
    "        print(\"Invalid choice\")"
   ],
   "id": "d7f56fdc822e6499",
   "outputs": [
    {
     "name": "stdout",
     "output_type": "stream",
     "text": [
      "(Breathes deeply) Ah, the differences between traditional left-to-right language models and BERT. It's like comparing apples and oranges, my friend. (Smirks)\n",
      "\n",
      "You see, traditional left-to-right models are like a one-way street, only looking at the context to the left of the current token. They're limited in their ability to capture the nuances of language. On the other hand, BERT is like a two-lane highway, considering both the left and right contexts simultaneously. This bidirectional approach allows it to better understand the relationships between words and their meanings.\n",
      "\n",
      "And let me tell you, my friend, this makes all the difference in the world. The masked language modeling task we use to pre-train BERT is like a puzzle, where the model has to figure out the missing tokens based on the context. It's not just about predicting the next word; it's about understanding the underlying structure of language.\n",
      "\n",
      "Now, I know what you're thinking: \"Yoichiro, why not use traditional left-to-right models?\" Well, my friend, those models are like a one-trick pony. They can only do one thing well, whereas BERT is like a Swiss Army knife - it can be used for a variety of tasks, from language translation to text generation.\n",
      "\n",
      "And don't even get me started on OpenAI GPT. (Scoffs) That model is like a one-way ticket to nowhere. It's limited by its left-to-right approach and can only do so much. BERT, on the other hand, is like a VIP pass to the world of language understanding.\n",
      "\n",
      "So, there you have it, my friend. The differences between traditional left-to-right models and BERT are like night and day. One is a one-way street, while the other is a two-lane highway that can take you anywhere. (Winks)\n"
     ]
    }
   ],
   "execution_count": 12
  }
 ],
 "metadata": {
  "kernelspec": {
   "display_name": "Python 3",
   "language": "python",
   "name": "python3"
  },
  "language_info": {
   "codemirror_mode": {
    "name": "ipython",
    "version": 2
   },
   "file_extension": ".py",
   "mimetype": "text/x-python",
   "name": "python",
   "nbconvert_exporter": "python",
   "pygments_lexer": "ipython2",
   "version": "2.7.6"
  }
 },
 "nbformat": 4,
 "nbformat_minor": 5
}
